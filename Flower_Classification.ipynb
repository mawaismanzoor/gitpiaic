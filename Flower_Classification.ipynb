{
  "nbformat": 4,
  "nbformat_minor": 0,
  "metadata": {
    "kernelspec": {
      "display_name": "Python 3",
      "language": "python",
      "name": "python3"
    },
    "language_info": {
      "codemirror_mode": {
        "name": "ipython",
        "version": 3
      },
      "file_extension": ".py",
      "mimetype": "text/x-python",
      "name": "python",
      "nbconvert_exporter": "python",
      "pygments_lexer": "ipython3",
      "version": "3.8.5"
    },
    "colab": {
      "name": "Flower Classification.ipynb",
      "provenance": [],
      "toc_visible": true
    },
    "accelerator": "GPU"
  },
  "cells": [
    {
      "cell_type": "markdown",
      "metadata": {
        "id": "QryRUu0gr00w"
      },
      "source": [
        "### Import modules"
      ]
    },
    {
      "cell_type": "code",
      "metadata": {
        "id": "D3XQIHSbr004"
      },
      "source": [
        "import tensorflow as tf\n",
        "from tensorflow import keras\n",
        "from tensorflow.keras import layers,models\n",
        "from tensorflow.keras.preprocessing.image import ImageDataGenerator"
      ],
      "execution_count": 1,
      "outputs": []
    },
    {
      "cell_type": "code",
      "metadata": {
        "colab": {
          "base_uri": "https://localhost:8080/"
        },
        "id": "Z_0qNqYvr006",
        "outputId": "6a0cffd5-f210-48fe-bfe4-4c9ecf884a12"
      },
      "source": [
        "tf.config.list_physical_devices(\n",
        "device_type=None\n",
        ")"
      ],
      "execution_count": 2,
      "outputs": [
        {
          "output_type": "execute_result",
          "data": {
            "text/plain": [
              "[PhysicalDevice(name='/physical_device:CPU:0', device_type='CPU'),\n",
              " PhysicalDevice(name='/physical_device:GPU:0', device_type='GPU')]"
            ]
          },
          "metadata": {
            "tags": []
          },
          "execution_count": 2
        }
      ]
    },
    {
      "cell_type": "code",
      "metadata": {
        "id": "FxUSanMfvKKL"
      },
      "source": [
        "#!unzip /content/drive/MyDrive/archive.zip"
      ],
      "execution_count": 3,
      "outputs": []
    },
    {
      "cell_type": "markdown",
      "metadata": {
        "id": "eXLLBRA6r006"
      },
      "source": [
        "### Hyper Parameters "
      ]
    },
    {
      "cell_type": "code",
      "metadata": {
        "id": "vqzFMabLr007"
      },
      "source": [
        "#Define some parameters\n",
        "img_size = 180\n",
        "img_depth = 3  \n",
        "batch_size = 16"
      ],
      "execution_count": 4,
      "outputs": []
    },
    {
      "cell_type": "markdown",
      "metadata": {
        "id": "5UA99zMrr007"
      },
      "source": [
        "### Image Data Generator\n",
        "We will define image data generator"
      ]
    },
    {
      "cell_type": "code",
      "metadata": {
        "id": "m7jLvTd2r007"
      },
      "source": [
        "# this is the augmentation configuration we will use for training\n",
        "datagen = ImageDataGenerator(\n",
        "        rescale=1./255,\n",
        "        shear_range=0.2,\n",
        "        zoom_range=0.2,\n",
        "        horizontal_flip=True,\n",
        "        validation_split=0.4)"
      ],
      "execution_count": 5,
      "outputs": []
    },
    {
      "cell_type": "markdown",
      "metadata": {
        "id": "-Rc0Qkdor008"
      },
      "source": [
        "## Build batch Generator"
      ]
    },
    {
      "cell_type": "code",
      "metadata": {
        "colab": {
          "base_uri": "https://localhost:8080/"
        },
        "id": "Ja0f8h9Qr008",
        "outputId": "07073c47-303d-4e5b-a799-b05aaa2893f6"
      },
      "source": [
        "train_generator = datagen.flow_from_directory(\n",
        "        'flowers',  # this is the target directory\n",
        "        target_size=(img_size, img_size),  # all images will be resized to img_sizeximg_size\n",
        "        batch_size=batch_size,\n",
        "        class_mode='categorical',subset='training')\n",
        "\n",
        "# this is a similar generator, for validation data\n",
        "validation_generator = datagen.flow_from_directory(\n",
        "        'flowers',\n",
        "        target_size=(img_size, img_size),\n",
        "        batch_size=batch_size,\n",
        "        class_mode='categorical', subset='validation')"
      ],
      "execution_count": 6,
      "outputs": [
        {
          "output_type": "stream",
          "text": [
            "Found 5191 images belonging to 6 classes.\n",
            "Found 3455 images belonging to 6 classes.\n"
          ],
          "name": "stdout"
        }
      ]
    },
    {
      "cell_type": "code",
      "metadata": {
        "id": "qGI7z_PJr008"
      },
      "source": [
        "class_names = train_generator.class_indices"
      ],
      "execution_count": 7,
      "outputs": []
    },
    {
      "cell_type": "markdown",
      "metadata": {
        "id": "EbE_sdHMr009"
      },
      "source": [
        "### Build a CNN Model"
      ]
    },
    {
      "cell_type": "code",
      "metadata": {
        "id": "OLe5N8m2r009"
      },
      "source": [
        "model = keras.Sequential([\n",
        "  layers.Conv2D(16, 3, input_shape=(img_size, img_size, 3),padding='same', activation='relu'),\n",
        "  layers.MaxPooling2D(),\n",
        "  layers.Conv2D(32, 3, padding='same', activation='relu'),\n",
        "  layers.MaxPooling2D(),\n",
        "  layers.Conv2D(64, 3, padding='same', activation='relu'),\n",
        "  layers.MaxPooling2D(),\n",
        "  layers.Dropout(0.2),\n",
        "  layers.Flatten(),\n",
        "  layers.Dense(128, activation='relu'),\n",
        "  layers.Dense(len(class_names), activation='softmax')\n",
        "])"
      ],
      "execution_count": 8,
      "outputs": []
    },
    {
      "cell_type": "markdown",
      "metadata": {
        "id": "z8Ryb-Vrr009"
      },
      "source": [
        "### Loss Function and Optimizer"
      ]
    },
    {
      "cell_type": "code",
      "metadata": {
        "id": "ppN9yJ30r00-"
      },
      "source": [
        "model.compile(optimizer='adam', loss='categorical_crossentropy', metrics=['accuracy'])"
      ],
      "execution_count": 9,
      "outputs": []
    },
    {
      "cell_type": "code",
      "metadata": {
        "colab": {
          "base_uri": "https://localhost:8080/"
        },
        "id": "C_Djn0OZr00-",
        "outputId": "da28b06e-3749-4cda-d429-de118252e9db"
      },
      "source": [
        "model.summary()"
      ],
      "execution_count": 10,
      "outputs": [
        {
          "output_type": "stream",
          "text": [
            "Model: \"sequential\"\n",
            "_________________________________________________________________\n",
            "Layer (type)                 Output Shape              Param #   \n",
            "=================================================================\n",
            "conv2d (Conv2D)              (None, 180, 180, 16)      448       \n",
            "_________________________________________________________________\n",
            "max_pooling2d (MaxPooling2D) (None, 90, 90, 16)        0         \n",
            "_________________________________________________________________\n",
            "conv2d_1 (Conv2D)            (None, 90, 90, 32)        4640      \n",
            "_________________________________________________________________\n",
            "max_pooling2d_1 (MaxPooling2 (None, 45, 45, 32)        0         \n",
            "_________________________________________________________________\n",
            "conv2d_2 (Conv2D)            (None, 45, 45, 64)        18496     \n",
            "_________________________________________________________________\n",
            "max_pooling2d_2 (MaxPooling2 (None, 22, 22, 64)        0         \n",
            "_________________________________________________________________\n",
            "dropout (Dropout)            (None, 22, 22, 64)        0         \n",
            "_________________________________________________________________\n",
            "flatten (Flatten)            (None, 30976)             0         \n",
            "_________________________________________________________________\n",
            "dense (Dense)                (None, 128)               3965056   \n",
            "_________________________________________________________________\n",
            "dense_1 (Dense)              (None, 6)                 774       \n",
            "=================================================================\n",
            "Total params: 3,989,414\n",
            "Trainable params: 3,989,414\n",
            "Non-trainable params: 0\n",
            "_________________________________________________________________\n"
          ],
          "name": "stdout"
        }
      ]
    },
    {
      "cell_type": "markdown",
      "metadata": {
        "id": "m3KGK7-Er00-"
      },
      "source": [
        "### Model Training"
      ]
    },
    {
      "cell_type": "code",
      "metadata": {
        "id": "ptdtcHzbr00-"
      },
      "source": [
        "STEP_SIZE_TRAIN=train_generator.n//train_generator.batch_size\n",
        "STEP_SIZE_VALID=validation_generator.n//validation_generator.batch_size"
      ],
      "execution_count": 11,
      "outputs": []
    },
    {
      "cell_type": "code",
      "metadata": {
        "colab": {
          "base_uri": "https://localhost:8080/"
        },
        "id": "CI5DvmU7r00_",
        "outputId": "601035cf-5ae7-4264-9ba1-8b9f87933fc4"
      },
      "source": [
        "model.fit_generator(train_generator,epochs=10,steps_per_epoch= STEP_SIZE_TRAIN, validation_data=validation_generator, validation_steps = STEP_SIZE_VALID)"
      ],
      "execution_count": 12,
      "outputs": [
        {
          "output_type": "stream",
          "text": [
            "/usr/local/lib/python3.7/dist-packages/tensorflow/python/keras/engine/training.py:1844: UserWarning: `Model.fit_generator` is deprecated and will be removed in a future version. Please use `Model.fit`, which supports generators.\n",
            "  warnings.warn('`Model.fit_generator` is deprecated and '\n"
          ],
          "name": "stderr"
        },
        {
          "output_type": "stream",
          "text": [
            "Epoch 1/10\n",
            "324/324 [==============================] - 74s 224ms/step - loss: 1.4533 - accuracy: 0.4710 - val_loss: 1.4005 - val_accuracy: 0.4273\n",
            "Epoch 2/10\n",
            "324/324 [==============================] - 72s 223ms/step - loss: 1.1815 - accuracy: 0.5286 - val_loss: 1.4118 - val_accuracy: 0.3250\n",
            "Epoch 3/10\n",
            "324/324 [==============================] - 72s 222ms/step - loss: 1.1066 - accuracy: 0.5688 - val_loss: 1.4785 - val_accuracy: 0.2674\n",
            "Epoch 4/10\n",
            "324/324 [==============================] - 72s 223ms/step - loss: 1.0690 - accuracy: 0.5746 - val_loss: 1.4797 - val_accuracy: 0.2698\n",
            "Epoch 5/10\n",
            "324/324 [==============================] - 71s 221ms/step - loss: 1.0436 - accuracy: 0.5607 - val_loss: 1.5181 - val_accuracy: 0.2887\n",
            "Epoch 6/10\n",
            "324/324 [==============================] - 72s 223ms/step - loss: 0.9952 - accuracy: 0.5902 - val_loss: 1.5810 - val_accuracy: 0.2631\n",
            "Epoch 7/10\n",
            "324/324 [==============================] - 72s 224ms/step - loss: 0.9438 - accuracy: 0.6109 - val_loss: 1.6300 - val_accuracy: 0.3317\n",
            "Epoch 8/10\n",
            "324/324 [==============================] - 72s 221ms/step - loss: 0.9198 - accuracy: 0.6162 - val_loss: 1.7166 - val_accuracy: 0.2962\n",
            "Epoch 9/10\n",
            "324/324 [==============================] - 71s 220ms/step - loss: 0.9221 - accuracy: 0.6093 - val_loss: 1.7910 - val_accuracy: 0.2523\n",
            "Epoch 10/10\n",
            "324/324 [==============================] - 72s 222ms/step - loss: 0.8843 - accuracy: 0.6074 - val_loss: 1.9817 - val_accuracy: 0.2270\n"
          ],
          "name": "stdout"
        },
        {
          "output_type": "execute_result",
          "data": {
            "text/plain": [
              "<tensorflow.python.keras.callbacks.History at 0x7f28f0051ad0>"
            ]
          },
          "metadata": {
            "tags": []
          },
          "execution_count": 12
        }
      ]
    }
  ]
}