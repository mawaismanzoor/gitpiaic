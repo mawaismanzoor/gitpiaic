{
  "nbformat": 4,
  "nbformat_minor": 0,
  "metadata": {
    "colab": {
      "name": "Assignmet1.ipynb",
      "provenance": []
    },
    "kernelspec": {
      "name": "python3",
      "display_name": "Python 3"
    }
  },
  "cells": [
    {
      "cell_type": "code",
      "metadata": {
        "colab": {
          "base_uri": "https://localhost:8080/"
        },
        "id": "FDx91nLDUTWF",
        "outputId": "fdae1b78-5d53-4e4b-e15a-a2f72b864cef"
      },
      "source": [
        "x = np.array([[1,3,5,9],[2,4,6,8]])\r\n",
        "y = np.array([[1.4,5,6.2,7],[9.9,8.2,6,4.1]])\r\n",
        "print(x.dtype)\r\n",
        "print(y.dtype)"
      ],
      "execution_count": null,
      "outputs": [
        {
          "output_type": "stream",
          "text": [
            "int64\n",
            "float64\n"
          ],
          "name": "stdout"
        }
      ]
    },
    {
      "cell_type": "code",
      "metadata": {
        "id": "lM_kyypcUCLF"
      },
      "source": [
        "import numpy as np"
      ],
      "execution_count": null,
      "outputs": []
    },
    {
      "cell_type": "code",
      "metadata": {
        "colab": {
          "base_uri": "https://localhost:8080/"
        },
        "id": "IWyb6AgRUbSt",
        "outputId": "466af1a5-da08-4cca-b781-f61fbbad59b1"
      },
      "source": [
        "print(x+2)    #Sum in Numpy"
      ],
      "execution_count": null,
      "outputs": [
        {
          "output_type": "stream",
          "text": [
            "[[ 3  5  7 11]\n",
            " [ 4  6  8 10]]\n"
          ],
          "name": "stdout"
        }
      ]
    },
    {
      "cell_type": "code",
      "metadata": {
        "colab": {
          "base_uri": "https://localhost:8080/"
        },
        "id": "q5FbxLPwV8cN",
        "outputId": "0bdaf3fd-313a-4261-89c4-6c01e2245e3f"
      },
      "source": [
        "print(x**2)"
      ],
      "execution_count": null,
      "outputs": [
        {
          "output_type": "stream",
          "text": [
            "[[ 1  9 25 81]\n",
            " [ 4 16 36 64]]\n"
          ],
          "name": "stdout"
        }
      ]
    },
    {
      "cell_type": "code",
      "metadata": {
        "colab": {
          "base_uri": "https://localhost:8080/"
        },
        "id": "Z1jPX6KaWE5k",
        "outputId": "b84ea73f-1c71-485b-ff8f-c68a77b62499"
      },
      "source": [
        "x.shape"
      ],
      "execution_count": null,
      "outputs": [
        {
          "output_type": "execute_result",
          "data": {
            "text/plain": [
              "(2, 4)"
            ]
          },
          "metadata": {
            "tags": []
          },
          "execution_count": 13
        }
      ]
    },
    {
      "cell_type": "code",
      "metadata": {
        "colab": {
          "base_uri": "https://localhost:8080/"
        },
        "id": "SMr4SaCnW5yP",
        "outputId": "b57d46a9-490a-4f57-92e3-aae244bf61db"
      },
      "source": [
        "x.ndim"
      ],
      "execution_count": null,
      "outputs": [
        {
          "output_type": "execute_result",
          "data": {
            "text/plain": [
              "2"
            ]
          },
          "metadata": {
            "tags": []
          },
          "execution_count": 15
        }
      ]
    },
    {
      "cell_type": "code",
      "metadata": {
        "colab": {
          "base_uri": "https://localhost:8080/"
        },
        "id": "KAe70yRoXG-P",
        "outputId": "fa78d37d-2711-4301-c7c3-c954933f1dc0"
      },
      "source": [
        "x.itemsize"
      ],
      "execution_count": null,
      "outputs": [
        {
          "output_type": "execute_result",
          "data": {
            "text/plain": [
              "8"
            ]
          },
          "metadata": {
            "tags": []
          },
          "execution_count": 17
        }
      ]
    },
    {
      "cell_type": "code",
      "metadata": {
        "colab": {
          "base_uri": "https://localhost:8080/"
        },
        "id": "0aDCBogOXWTk",
        "outputId": "456003be-91a3-4633-9c37-3be5f13a0100"
      },
      "source": [
        "x.size"
      ],
      "execution_count": null,
      "outputs": [
        {
          "output_type": "execute_result",
          "data": {
            "text/plain": [
              "8"
            ]
          },
          "metadata": {
            "tags": []
          },
          "execution_count": 18
        }
      ]
    },
    {
      "cell_type": "code",
      "metadata": {
        "colab": {
          "base_uri": "https://localhost:8080/"
        },
        "id": "buSqXGk8XfSB",
        "outputId": "4c70aac7-d88b-4972-b6df-2ae1038d4cd5"
      },
      "source": [
        "type(x)\r\n",
        "type(y)"
      ],
      "execution_count": null,
      "outputs": [
        {
          "output_type": "execute_result",
          "data": {
            "text/plain": [
              "numpy.ndarray"
            ]
          },
          "metadata": {
            "tags": []
          },
          "execution_count": 20
        }
      ]
    },
    {
      "cell_type": "code",
      "metadata": {
        "colab": {
          "base_uri": "https://localhost:8080/"
        },
        "id": "kfVU406KXr32",
        "outputId": "a5f7f388-735d-4a43-a0c8-47317e27797f"
      },
      "source": [
        "np.zeros((5, 6))"
      ],
      "execution_count": null,
      "outputs": [
        {
          "output_type": "execute_result",
          "data": {
            "text/plain": [
              "array([[0., 0., 0., 0., 0., 0.],\n",
              "       [0., 0., 0., 0., 0., 0.],\n",
              "       [0., 0., 0., 0., 0., 0.],\n",
              "       [0., 0., 0., 0., 0., 0.],\n",
              "       [0., 0., 0., 0., 0., 0.]])"
            ]
          },
          "metadata": {
            "tags": []
          },
          "execution_count": 21
        }
      ]
    },
    {
      "cell_type": "code",
      "metadata": {
        "colab": {
          "base_uri": "https://localhost:8080/"
        },
        "id": "VtzmbzejX-Sa",
        "outputId": "ca78da12-d889-441f-dc42-c7a0b1298501"
      },
      "source": [
        "np.ones( (4,2,3), dtype=np.int16 )"
      ],
      "execution_count": null,
      "outputs": [
        {
          "output_type": "execute_result",
          "data": {
            "text/plain": [
              "array([[[1, 1, 1],\n",
              "        [1, 1, 1]],\n",
              "\n",
              "       [[1, 1, 1],\n",
              "        [1, 1, 1]],\n",
              "\n",
              "       [[1, 1, 1],\n",
              "        [1, 1, 1]],\n",
              "\n",
              "       [[1, 1, 1],\n",
              "        [1, 1, 1]]], dtype=int16)"
            ]
          },
          "metadata": {
            "tags": []
          },
          "execution_count": 23
        }
      ]
    },
    {
      "cell_type": "code",
      "metadata": {
        "colab": {
          "base_uri": "https://localhost:8080/"
        },
        "id": "pxrHxUIAYU5h",
        "outputId": "a38a00c1-a413-4be6-cd48-4547d5221b95"
      },
      "source": [
        "np.empty( (4,3) ) "
      ],
      "execution_count": null,
      "outputs": [
        {
          "output_type": "execute_result",
          "data": {
            "text/plain": [
              "array([[3.46699065e-316, 2.47032823e-322, 0.00000000e+000],\n",
              "       [0.00000000e+000, 0.00000000e+000, 1.58817677e-052],\n",
              "       [5.28445254e-091, 1.04049503e-042, 1.00552081e-047],\n",
              "       [1.57252062e-076, 3.99910963e+252, 1.46030983e-319]])"
            ]
          },
          "metadata": {
            "tags": []
          },
          "execution_count": 24
        }
      ]
    },
    {
      "cell_type": "code",
      "metadata": {
        "colab": {
          "base_uri": "https://localhost:8080/"
        },
        "id": "PP_rKBigYdKN",
        "outputId": "6f2123ed-f00e-48df-abfc-ce64e0c950f5"
      },
      "source": [
        " np.arange( 5, 6, 9 )  "
      ],
      "execution_count": null,
      "outputs": [
        {
          "output_type": "execute_result",
          "data": {
            "text/plain": [
              "array([5])"
            ]
          },
          "metadata": {
            "tags": []
          },
          "execution_count": 25
        }
      ]
    },
    {
      "cell_type": "code",
      "metadata": {
        "colab": {
          "base_uri": "https://localhost:8080/"
        },
        "id": "zVuqieVBY7Os",
        "outputId": "d8686ebb-3a14-486e-ce21-d1a813928abc"
      },
      "source": [
        "np.arange(0,2,.3)  "
      ],
      "execution_count": null,
      "outputs": [
        {
          "output_type": "execute_result",
          "data": {
            "text/plain": [
              "array([0. , 0.3, 0.6, 0.9, 1.2, 1.5, 1.8])"
            ]
          },
          "metadata": {
            "tags": []
          },
          "execution_count": 26
        }
      ]
    },
    {
      "cell_type": "code",
      "metadata": {
        "colab": {
          "base_uri": "https://localhost:8080/"
        },
        "id": "Gd14NR6AZIQf",
        "outputId": "fd20ba08-6d5e-46aa-dea6-1a1b3beb4a17"
      },
      "source": [
        "from numpy import pi\r\n",
        "np.linspace( 0, 3, 6 )"
      ],
      "execution_count": null,
      "outputs": [
        {
          "output_type": "execute_result",
          "data": {
            "text/plain": [
              "array([0. , 0.6, 1.2, 1.8, 2.4, 3. ])"
            ]
          },
          "metadata": {
            "tags": []
          },
          "execution_count": 28
        }
      ]
    },
    {
      "cell_type": "code",
      "metadata": {
        "colab": {
          "base_uri": "https://localhost:8080/"
        },
        "id": "Xfge6f-FZsc2",
        "outputId": "07c45249-b120-4929-86db-75687d4706c4"
      },
      "source": [
        "z = np.linspace( 0, 3*pi, 25 )\r\n",
        "print(z)"
      ],
      "execution_count": null,
      "outputs": [
        {
          "output_type": "stream",
          "text": [
            "[0.         0.39269908 0.78539816 1.17809725 1.57079633 1.96349541\n",
            " 2.35619449 2.74889357 3.14159265 3.53429174 3.92699082 4.3196899\n",
            " 4.71238898 5.10508806 5.49778714 5.89048623 6.28318531 6.67588439\n",
            " 7.06858347 7.46128255 7.85398163 8.24668072 8.6393798  9.03207888\n",
            " 9.42477796]\n"
          ],
          "name": "stdout"
        }
      ]
    },
    {
      "cell_type": "code",
      "metadata": {
        "colab": {
          "base_uri": "https://localhost:8080/"
        },
        "id": "GOUny21wZ9_G",
        "outputId": "cca9203a-c705-4a44-c716-93ecf0616cdc"
      },
      "source": [
        " z = np.arange(30).reshape(6,5) \r\n",
        " print(z)"
      ],
      "execution_count": null,
      "outputs": [
        {
          "output_type": "stream",
          "text": [
            "[[ 0  1  2  3  4]\n",
            " [ 5  6  7  8  9]\n",
            " [10 11 12 13 14]\n",
            " [15 16 17 18 19]\n",
            " [20 21 22 23 24]\n",
            " [25 26 27 28 29]]\n"
          ],
          "name": "stdout"
        }
      ]
    },
    {
      "cell_type": "code",
      "metadata": {
        "colab": {
          "base_uri": "https://localhost:8080/"
        },
        "id": "ubb_0yUOa484",
        "outputId": "80a5bb23-2440-413a-b0fd-5433254b9c69"
      },
      "source": [
        "u = np.arange(90).reshape(3,5,6) \r\n",
        "print(u)"
      ],
      "execution_count": null,
      "outputs": [
        {
          "output_type": "stream",
          "text": [
            "[[[ 0  1  2  3  4  5]\n",
            "  [ 6  7  8  9 10 11]\n",
            "  [12 13 14 15 16 17]\n",
            "  [18 19 20 21 22 23]\n",
            "  [24 25 26 27 28 29]]\n",
            "\n",
            " [[30 31 32 33 34 35]\n",
            "  [36 37 38 39 40 41]\n",
            "  [42 43 44 45 46 47]\n",
            "  [48 49 50 51 52 53]\n",
            "  [54 55 56 57 58 59]]\n",
            "\n",
            " [[60 61 62 63 64 65]\n",
            "  [66 67 68 69 70 71]\n",
            "  [72 73 74 75 76 77]\n",
            "  [78 79 80 81 82 83]\n",
            "  [84 85 86 87 88 89]]]\n"
          ],
          "name": "stdout"
        }
      ]
    },
    {
      "cell_type": "code",
      "metadata": {
        "colab": {
          "base_uri": "https://localhost:8080/"
        },
        "id": "cQu4SmW2bJTl",
        "outputId": "205905ed-29ba-44fc-f5d8-b00a04a79b0c"
      },
      "source": [
        "print(np.arange(100000))"
      ],
      "execution_count": null,
      "outputs": [
        {
          "output_type": "stream",
          "text": [
            "[    0     1     2 ... 99997 99998 99999]\n"
          ],
          "name": "stdout"
        }
      ]
    },
    {
      "cell_type": "code",
      "metadata": {
        "colab": {
          "base_uri": "https://localhost:8080/"
        },
        "id": "-cZ-cE4MbZA2",
        "outputId": "c86513b4-f268-4282-8de7-e75007d66673"
      },
      "source": [
        "print(np.arange(100000).reshape(1000,100))"
      ],
      "execution_count": null,
      "outputs": [
        {
          "output_type": "stream",
          "text": [
            "[[    0     1     2 ...    97    98    99]\n",
            " [  100   101   102 ...   197   198   199]\n",
            " [  200   201   202 ...   297   298   299]\n",
            " ...\n",
            " [99700 99701 99702 ... 99797 99798 99799]\n",
            " [99800 99801 99802 ... 99897 99898 99899]\n",
            " [99900 99901 99902 ... 99997 99998 99999]]\n"
          ],
          "name": "stdout"
        }
      ]
    },
    {
      "cell_type": "code",
      "metadata": {
        "colab": {
          "base_uri": "https://localhost:8080/"
        },
        "id": "0N7BIJgjbaQ6",
        "outputId": "a443db6c-f5c6-4f99-fefb-c05e238b0ba6"
      },
      "source": [
        "25*np.cos(x)"
      ],
      "execution_count": null,
      "outputs": [
        {
          "output_type": "execute_result",
          "data": {
            "text/plain": [
              "array([[ 13.50755765, -24.74981242,   7.09155464, -22.77825655],\n",
              "       [-10.40367091, -16.34109052,  24.00425717,  -3.63750085]])"
            ]
          },
          "metadata": {
            "tags": []
          },
          "execution_count": 44
        }
      ]
    },
    {
      "cell_type": "code",
      "metadata": {
        "colab": {
          "base_uri": "https://localhost:8080/"
        },
        "id": "sho2ExJFb_Yn",
        "outputId": "cbe57241-2863-467a-f382-8175a34aae40"
      },
      "source": [
        "x>3"
      ],
      "execution_count": null,
      "outputs": [
        {
          "output_type": "execute_result",
          "data": {
            "text/plain": [
              "array([[False, False,  True,  True],\n",
              "       [False,  True,  True,  True]])"
            ]
          },
          "metadata": {
            "tags": []
          },
          "execution_count": 45
        }
      ]
    },
    {
      "cell_type": "code",
      "metadata": {
        "colab": {
          "base_uri": "https://localhost:8080/"
        },
        "id": "xIRyp_qucYv0",
        "outputId": "8a2a5c74-8e26-4185-d2fb-6f59ca400144"
      },
      "source": [
        "s = np.array([[1,3],[2,4]])\r\n",
        "t = np.array([[5,2],[1,9]])\r\n",
        "s@t"
      ],
      "execution_count": null,
      "outputs": [
        {
          "output_type": "execute_result",
          "data": {
            "text/plain": [
              "array([[ 8, 29],\n",
              "       [14, 40]])"
            ]
          },
          "metadata": {
            "tags": []
          },
          "execution_count": 49
        }
      ]
    },
    {
      "cell_type": "code",
      "metadata": {
        "colab": {
          "base_uri": "https://localhost:8080/"
        },
        "id": "n7xc6IwadWFH",
        "outputId": "f5478b49-f085-4b30-fded-4baedc5735b2"
      },
      "source": [
        "s.dot(t)  "
      ],
      "execution_count": null,
      "outputs": [
        {
          "output_type": "execute_result",
          "data": {
            "text/plain": [
              "array([[ 8, 29],\n",
              "       [14, 40]])"
            ]
          },
          "metadata": {
            "tags": []
          },
          "execution_count": 51
        }
      ]
    },
    {
      "cell_type": "code",
      "metadata": {
        "colab": {
          "base_uri": "https://localhost:8080/"
        },
        "id": "F3A7jpBJd11T",
        "outputId": "7fd1f08e-3245-4ac3-e410-5e5781877039"
      },
      "source": [
        "rb = np.random.default_rng(1)\r\n",
        "d = rb.random((2,3))\r\n",
        "print(d)"
      ],
      "execution_count": null,
      "outputs": [
        {
          "output_type": "stream",
          "text": [
            "[[0.51182162 0.9504637  0.14415961]\n",
            " [0.94864945 0.31183145 0.42332645]]\n"
          ],
          "name": "stdout"
        }
      ]
    },
    {
      "cell_type": "code",
      "metadata": {
        "colab": {
          "base_uri": "https://localhost:8080/"
        },
        "id": "u3cYmFFFeJav",
        "outputId": "2b50c185-cd42-4be6-e77f-2da690cd1a01"
      },
      "source": [
        "d *= 2\r\n",
        "print(d)\r\n"
      ],
      "execution_count": null,
      "outputs": [
        {
          "output_type": "stream",
          "text": [
            "[[3.07092975 5.70278218 0.86495768]\n",
            " [5.69189668 1.87098871 2.53995869]]\n"
          ],
          "name": "stdout"
        }
      ]
    },
    {
      "cell_type": "code",
      "metadata": {
        "colab": {
          "base_uri": "https://localhost:8080/"
        },
        "id": "GdOrshybeubK",
        "outputId": "94ea2ec2-94a5-41fa-e98b-ec8c2a45837e"
      },
      "source": [
        "sum(d) "
      ],
      "execution_count": null,
      "outputs": [
        {
          "output_type": "execute_result",
          "data": {
            "text/plain": [
              "array([8.76282643, 7.57377089, 3.40491637])"
            ]
          },
          "metadata": {
            "tags": []
          },
          "execution_count": 64
        }
      ]
    },
    {
      "cell_type": "code",
      "metadata": {
        "colab": {
          "base_uri": "https://localhost:8080/"
        },
        "id": "Rt_HdI7sfHvy",
        "outputId": "9fb3c8d0-0497-4624-ce54-e4f2cbb73c3a"
      },
      "source": [
        "d.sum()"
      ],
      "execution_count": null,
      "outputs": [
        {
          "output_type": "execute_result",
          "data": {
            "text/plain": [
              "19.741513691196786"
            ]
          },
          "metadata": {
            "tags": []
          },
          "execution_count": 65
        }
      ]
    },
    {
      "cell_type": "code",
      "metadata": {
        "colab": {
          "base_uri": "https://localhost:8080/"
        },
        "id": "ECc8QSggfSOP",
        "outputId": "628f91aa-eabf-461c-87af-4e93071e6c3b"
      },
      "source": [
        "d.min()"
      ],
      "execution_count": null,
      "outputs": [
        {
          "output_type": "execute_result",
          "data": {
            "text/plain": [
              "0.8649576763178024"
            ]
          },
          "metadata": {
            "tags": []
          },
          "execution_count": 67
        }
      ]
    },
    {
      "cell_type": "code",
      "metadata": {
        "colab": {
          "base_uri": "https://localhost:8080/"
        },
        "id": "bLNxDjrwfYJ4",
        "outputId": "d315c63b-a997-47dd-8d8a-66929ccb115a"
      },
      "source": [
        "d.max()"
      ],
      "execution_count": null,
      "outputs": [
        {
          "output_type": "execute_result",
          "data": {
            "text/plain": [
              "5.702782177955612"
            ]
          },
          "metadata": {
            "tags": []
          },
          "execution_count": 69
        }
      ]
    },
    {
      "cell_type": "code",
      "metadata": {
        "colab": {
          "base_uri": "https://localhost:8080/"
        },
        "id": "_XHZWAF9gEJT",
        "outputId": "b8b5479d-881e-40f3-cc22-9c849f25abcb"
      },
      "source": [
        "x\r\n",
        "x.sum(axis=0)"
      ],
      "execution_count": null,
      "outputs": [
        {
          "output_type": "execute_result",
          "data": {
            "text/plain": [
              "array([ 3,  7, 11, 17])"
            ]
          },
          "metadata": {
            "tags": []
          },
          "execution_count": 72
        }
      ]
    },
    {
      "cell_type": "code",
      "metadata": {
        "colab": {
          "base_uri": "https://localhost:8080/"
        },
        "id": "lR4tYb3CgJHD",
        "outputId": "de368e8f-1bc7-4772-8199-4d3a92d0a291"
      },
      "source": [
        "y.sum(axis=1)"
      ],
      "execution_count": null,
      "outputs": [
        {
          "output_type": "execute_result",
          "data": {
            "text/plain": [
              "array([19.6, 28.2])"
            ]
          },
          "metadata": {
            "tags": []
          },
          "execution_count": 71
        }
      ]
    },
    {
      "cell_type": "code",
      "metadata": {
        "colab": {
          "base_uri": "https://localhost:8080/"
        },
        "id": "t1UzM9-BgVw4",
        "outputId": "4a69a516-4989-4eff-fa1d-06c39bc34800"
      },
      "source": [
        "x.cumsum(axis=1)"
      ],
      "execution_count": null,
      "outputs": [
        {
          "output_type": "execute_result",
          "data": {
            "text/plain": [
              "array([[ 1,  4,  9, 18],\n",
              "       [ 2,  6, 12, 20]])"
            ]
          },
          "metadata": {
            "tags": []
          },
          "execution_count": 73
        }
      ]
    },
    {
      "cell_type": "code",
      "metadata": {
        "colab": {
          "base_uri": "https://localhost:8080/"
        },
        "id": "GpqeRAEnuaZR",
        "outputId": "2ae41a1b-485d-4543-a9b7-799496b6f722"
      },
      "source": [
        "z = np.arange(10).reshape(2,-1)\r\n",
        "print(z)"
      ],
      "execution_count": null,
      "outputs": [
        {
          "output_type": "stream",
          "text": [
            "[[0 1 2 3 4]\n",
            " [5 6 7 8 9]]\n"
          ],
          "name": "stdout"
        }
      ]
    },
    {
      "cell_type": "code",
      "metadata": {
        "colab": {
          "base_uri": "https://localhost:8080/"
        },
        "id": "wgDPgwkBxC9G",
        "outputId": "3c2c3d9c-d20d-49c8-b50b-a32c6ac42ba4"
      },
      "source": [
        "za = np.repeat(1, 10).reshape(2,-1)\r\n",
        "print(za)"
      ],
      "execution_count": null,
      "outputs": [
        {
          "output_type": "stream",
          "text": [
            "[[1 1 1 1 1]\n",
            " [1 1 1 1 1]]\n"
          ],
          "name": "stdout"
        }
      ]
    },
    {
      "cell_type": "code",
      "metadata": {
        "colab": {
          "base_uri": "https://localhost:8080/"
        },
        "id": "q5I6PGczxuxi",
        "outputId": "8fd04167-cc6d-42e5-cbb3-cdb772bd1c21"
      },
      "source": [
        "np.concatenate([z, za], axis=1)"
      ],
      "execution_count": null,
      "outputs": [
        {
          "output_type": "execute_result",
          "data": {
            "text/plain": [
              "array([[0, 1, 2, 3, 4, 1, 1, 1, 1, 1],\n",
              "       [5, 6, 7, 8, 9, 1, 1, 1, 1, 1]])"
            ]
          },
          "metadata": {
            "tags": []
          },
          "execution_count": 16
        }
      ]
    },
    {
      "cell_type": "code",
      "metadata": {
        "colab": {
          "base_uri": "https://localhost:8080/"
        },
        "id": "NT_1_DX0yIcZ",
        "outputId": "bc44cc79-e589-4ab8-b161-23f7aeddfba5"
      },
      "source": [
        "np.hstack([z, za])"
      ],
      "execution_count": null,
      "outputs": [
        {
          "output_type": "execute_result",
          "data": {
            "text/plain": [
              "array([[0, 1, 2, 3, 4, 1, 1, 1, 1, 1],\n",
              "       [5, 6, 7, 8, 9, 1, 1, 1, 1, 1]])"
            ]
          },
          "metadata": {
            "tags": []
          },
          "execution_count": 17
        }
      ]
    },
    {
      "cell_type": "code",
      "metadata": {
        "colab": {
          "base_uri": "https://localhost:8080/"
        },
        "id": "0HudIH5jyTDD",
        "outputId": "0b6fd180-0fc7-4289-ec70-0c4a057724e7"
      },
      "source": [
        "def maxx(x, y):\r\n",
        "    \"\"\"Get the maximum of two items\"\"\"\r\n",
        "    if x >= y:\r\n",
        "        return x\r\n",
        "    else:\r\n",
        "        return y\r\n",
        "\r\n",
        "maxx(1, 5)\r\n",
        "#> 5"
      ],
      "execution_count": null,
      "outputs": [
        {
          "output_type": "execute_result",
          "data": {
            "text/plain": [
              "5"
            ]
          },
          "metadata": {
            "tags": []
          },
          "execution_count": 18
        }
      ]
    },
    {
      "cell_type": "code",
      "metadata": {
        "colab": {
          "base_uri": "https://localhost:8080/"
        },
        "id": "N_Y139aQyvMQ",
        "outputId": "fcaa0458-5c54-4a1a-bba6-9c845b2f6653"
      },
      "source": [
        "np.random.seed(100)\r\n",
        "rand_z = np.random.random([3,3])/1e3\r\n",
        "rand_z"
      ],
      "execution_count": null,
      "outputs": [
        {
          "output_type": "execute_result",
          "data": {
            "text/plain": [
              "array([[5.43404942e-04, 2.78369385e-04, 4.24517591e-04],\n",
              "       [8.44776132e-04, 4.71885619e-06, 1.21569121e-04],\n",
              "       [6.70749085e-04, 8.25852755e-04, 1.36706590e-04]])"
            ]
          },
          "metadata": {
            "tags": []
          },
          "execution_count": 25
        }
      ]
    },
    {
      "cell_type": "code",
      "metadata": {
        "colab": {
          "base_uri": "https://localhost:8080/"
        },
        "id": "ibd0fRf30rmm",
        "outputId": "c08705d7-1641-4fee-83a7-cad03d1616c9"
      },
      "source": [
        "np.set_printoptions(threshold=6)\r\n",
        "sa = np.arange(15)\r\n",
        "sa\r\n"
      ],
      "execution_count": null,
      "outputs": [
        {
          "output_type": "execute_result",
          "data": {
            "text/plain": [
              "array([ 0,  1,  2, ..., 12, 13, 14])"
            ]
          },
          "metadata": {
            "tags": []
          },
          "execution_count": 27
        }
      ]
    },
    {
      "cell_type": "code",
      "metadata": {
        "colab": {
          "base_uri": "https://localhost:8080/"
        },
        "id": "7VBtsduD0-Rf",
        "outputId": "e1f4e9c0-4224-45f1-f8c4-b349f41836f8"
      },
      "source": [
        "url = 'https://archive.ics.uci.edu/ml/machine-learning-databases/iris/iris.data'\r\n",
        "iris_data = np.genfromtxt(url, delimiter=',', dtype='object')\r\n",
        "names = ('sepallength', 'sepalwidth', 'petallength', 'petalwidth', 'species')\r\n",
        "iris_data"
      ],
      "execution_count": null,
      "outputs": [
        {
          "output_type": "execute_result",
          "data": {
            "text/plain": [
              "array([[b'5.1', b'3.5', b'1.4', b'0.2', b'Iris-setosa'],\n",
              "       [b'4.9', b'3.0', b'1.4', b'0.2', b'Iris-setosa'],\n",
              "       [b'4.7', b'3.2', b'1.3', b'0.2', b'Iris-setosa'],\n",
              "       ...,\n",
              "       [b'6.5', b'3.0', b'5.2', b'2.0', b'Iris-virginica'],\n",
              "       [b'6.2', b'3.4', b'5.4', b'2.3', b'Iris-virginica'],\n",
              "       [b'5.9', b'3.0', b'5.1', b'1.8', b'Iris-virginica']], dtype=object)"
            ]
          },
          "metadata": {
            "tags": []
          },
          "execution_count": 29
        }
      ]
    },
    {
      "cell_type": "code",
      "metadata": {
        "colab": {
          "base_uri": "https://localhost:8080/"
        },
        "id": "bW88OBfm19Xp",
        "outputId": "7382b63e-7ad9-4272-e017-269bfac35af1"
      },
      "source": [
        "url = 'https://archive.ics.uci.edu/ml/machine-learning-databases/iris/iris.data'\r\n",
        "iris_1d1 = np.genfromtxt(url, delimiter=',', dtype=None)\r\n",
        "iris_1d1"
      ],
      "execution_count": null,
      "outputs": [
        {
          "output_type": "stream",
          "text": [
            "/usr/local/lib/python3.6/dist-packages/ipykernel_launcher.py:2: VisibleDeprecationWarning: Reading unicode strings without specifying the encoding argument is deprecated. Set the encoding, use None for the system default.\n",
            "  \n"
          ],
          "name": "stderr"
        },
        {
          "output_type": "execute_result",
          "data": {
            "text/plain": [
              "array([(5.1, 3.5, 1.4, 0.2, b'Iris-setosa'),\n",
              "       (4.9, 3. , 1.4, 0.2, b'Iris-setosa'),\n",
              "       (4.7, 3.2, 1.3, 0.2, b'Iris-setosa'), ...,\n",
              "       (6.5, 3. , 5.2, 2. , b'Iris-virginica'),\n",
              "       (6.2, 3.4, 5.4, 2.3, b'Iris-virginica'),\n",
              "       (5.9, 3. , 5.1, 1.8, b'Iris-virginica')],\n",
              "      dtype=[('f0', '<f8'), ('f1', '<f8'), ('f2', '<f8'), ('f3', '<f8'), ('f4', 'S15')])"
            ]
          },
          "metadata": {
            "tags": []
          },
          "execution_count": 31
        }
      ]
    },
    {
      "cell_type": "code",
      "metadata": {
        "colab": {
          "base_uri": "https://localhost:8080/"
        },
        "id": "efAvVtTU2WGa",
        "outputId": "56296f15-8bbb-4477-e383-a20c339f5f04"
      },
      "source": [
        "spec = np.array([row[4] for row in iris_1d1])\r\n",
        "spec[:5]"
      ],
      "execution_count": null,
      "outputs": [
        {
          "output_type": "execute_result",
          "data": {
            "text/plain": [
              "array([b'Iris-setosa', b'Iris-setosa', b'Iris-setosa', b'Iris-setosa',\n",
              "       b'Iris-setosa'], dtype='|S18')"
            ]
          },
          "metadata": {
            "tags": []
          },
          "execution_count": 32
        }
      ]
    },
    {
      "cell_type": "code",
      "metadata": {
        "colab": {
          "base_uri": "https://localhost:8080/"
        },
        "id": "nQgSx3cP2oKq",
        "outputId": "f65ea1e4-1f8f-471d-d693-f03de86ec2b4"
      },
      "source": [
        "url = 'https://archive.ics.uci.edu/ml/machine-learning-databases/iris/iris.data'\r\n",
        "iris_1d1 = np.genfromtxt(url, delimiter=',', dtype=None)"
      ],
      "execution_count": null,
      "outputs": [
        {
          "output_type": "stream",
          "text": [
            "/usr/local/lib/python3.6/dist-packages/ipykernel_launcher.py:2: VisibleDeprecationWarning: Reading unicode strings without specifying the encoding argument is deprecated. Set the encoding, use None for the system default.\n",
            "  \n"
          ],
          "name": "stderr"
        }
      ]
    },
    {
      "cell_type": "code",
      "metadata": {
        "colab": {
          "base_uri": "https://localhost:8080/"
        },
        "id": "Oc6Hhhyu24UI",
        "outputId": "7d69c3f8-7ab0-4f20-f5f5-7dc0208d4a5b"
      },
      "source": [
        "url = 'https://archive.ics.uci.edu/ml/machine-learning-databases/iris/iris.data'\r\n",
        "iris2 = np.genfromtxt(url, delimiter=',', dtype='object')\r\n",
        "sepallength = np.genfromtxt(url, delimiter=',', dtype='float', usecols=[0])\r\n",
        "iris2"
      ],
      "execution_count": null,
      "outputs": [
        {
          "output_type": "execute_result",
          "data": {
            "text/plain": [
              "array([[b'5.1', b'3.5', b'1.4', b'0.2', b'Iris-setosa'],\n",
              "       [b'4.9', b'3.0', b'1.4', b'0.2', b'Iris-setosa'],\n",
              "       [b'4.7', b'3.2', b'1.3', b'0.2', b'Iris-setosa'],\n",
              "       ...,\n",
              "       [b'6.5', b'3.0', b'5.2', b'2.0', b'Iris-virginica'],\n",
              "       [b'6.2', b'3.4', b'5.4', b'2.3', b'Iris-virginica'],\n",
              "       [b'5.9', b'3.0', b'5.1', b'1.8', b'Iris-virginica']], dtype=object)"
            ]
          },
          "metadata": {
            "tags": []
          },
          "execution_count": 35
        }
      ]
    },
    {
      "cell_type": "code",
      "metadata": {
        "colab": {
          "base_uri": "https://localhost:8080/"
        },
        "id": "TBxwX9km3Jif",
        "outputId": "2a858d38-33a8-4a46-aae5-a3ae9910becf"
      },
      "source": [
        "mu, med, sd = np.mean(sepallength), np.median(sepallength), np.std(sepallength)\r\n",
        "print(mu, med, sd)"
      ],
      "execution_count": null,
      "outputs": [
        {
          "output_type": "stream",
          "text": [
            "5.843333333333334 5.8 0.8253012917851409\n"
          ],
          "name": "stdout"
        }
      ]
    },
    {
      "cell_type": "code",
      "metadata": {
        "colab": {
          "base_uri": "https://localhost:8080/"
        },
        "id": "MdfXxacL3Ysm",
        "outputId": "e60e40bb-b71e-467e-d8e3-dbeb05ddff57"
      },
      "source": [
        "url = 'https://archive.ics.uci.edu/ml/machine-learning-databases/iris/iris.data'\r\n",
        "sepallength = np.genfromtxt(url, delimiter=',', dtype='float', usecols=[0])\r\n",
        "\r\n",
        "# Solution\r\n",
        "Smax, Smin = sepallength.max(), sepallength.min()\r\n",
        "S = (sepallength - Smin)/(Smax - Smin)\r\n",
        "# or \r\n",
        "S = (sepallength - Smin)/sepallength.ptp()  # Thanks, David Ojeda!\r\n",
        "print(S)"
      ],
      "execution_count": null,
      "outputs": [
        {
          "output_type": "stream",
          "text": [
            "[0.22222222 0.16666667 0.11111111 ... 0.61111111 0.52777778 0.44444444]\n"
          ],
          "name": "stdout"
        }
      ]
    },
    {
      "cell_type": "code",
      "metadata": {
        "id": "hhrVS19s3sN-"
      },
      "source": [
        "# Input\r\n",
        "url = 'https://archive.ics.uci.edu/ml/machine-learning-databases/iris/iris.data'\r\n",
        "iris = np.genfromtxt(url, delimiter=',', dtype='object')\r\n",
        "sepallength = np.array([float(row[0]) for row in iris])\r\n",
        "\r\n",
        "# Solution\r\n",
        "def softmax(x):\r\n",
        "    \"\"\"Compute softmax values for each sets of scores in x.\r\n",
        "    https://stackoverflow.com/questions/34968722/how-to-implement-the-softmax-function-in-python\"\"\"\r\n",
        "    e_x = np.exp(x - np.max(x))\r\n",
        "    return e_x / e_x.sum(axis=0)\r\n",
        "    print(softmax(sepallength))"
      ],
      "execution_count": null,
      "outputs": []
    },
    {
      "cell_type": "code",
      "metadata": {
        "colab": {
          "base_uri": "https://localhost:8080/"
        },
        "id": "1pGJ-Jjd53Vd",
        "outputId": "b9224298-f484-4ecf-a5c3-8c3dfe6d6ec1"
      },
      "source": [
        "# Input\r\n",
        "url = 'https://archive.ics.uci.edu/ml/machine-learning-databases/iris/iris.data'\r\n",
        "iris_2d = np.genfromtxt(url, delimiter=',', dtype='object')\r\n",
        "\r\n",
        "# Method 1\r\n",
        "i, j = np.where(iris_2d)\r\n",
        "iris_2d"
      ],
      "execution_count": null,
      "outputs": [
        {
          "output_type": "execute_result",
          "data": {
            "text/plain": [
              "array([[b'5.1', b'3.5', b'1.4', b'0.2', b'Iris-setosa'],\n",
              "       [b'4.9', b'3.0', b'1.4', b'0.2', b'Iris-setosa'],\n",
              "       [b'4.7', b'3.2', b'1.3', b'0.2', b'Iris-setosa'],\n",
              "       ...,\n",
              "       [b'6.5', b'3.0', b'5.2', b'2.0', b'Iris-virginica'],\n",
              "       [b'6.2', b'3.4', b'5.4', b'2.3', b'Iris-virginica'],\n",
              "       [b'5.9', b'3.0', b'5.1', b'1.8', b'Iris-virginica']], dtype=object)"
            ]
          },
          "metadata": {
            "tags": []
          },
          "execution_count": 43
        }
      ]
    },
    {
      "cell_type": "code",
      "metadata": {
        "colab": {
          "base_uri": "https://localhost:8080/"
        },
        "id": "qBKzCZOv6IV-",
        "outputId": "29b45e56-75e4-427a-efa1-6e4a6b95a886"
      },
      "source": [
        "np.random.seed(100)\r\n",
        "iris_2d[np.random.randint(150, size=20), np.random.randint(4, size=20)] = np.nan\r\n",
        "print(iris_2d[:9])"
      ],
      "execution_count": null,
      "outputs": [
        {
          "output_type": "stream",
          "text": [
            "[[b'5.1' b'3.5' b'1.4' b'0.2' b'Iris-setosa']\n",
            " [b'4.9' b'3.0' b'1.4' b'0.2' b'Iris-setosa']\n",
            " [b'4.7' b'3.2' b'1.3' b'0.2' b'Iris-setosa']\n",
            " ...\n",
            " [b'4.6' b'3.4' b'1.4' b'0.3' b'Iris-setosa']\n",
            " [b'5.0' b'3.4' b'1.5' b'0.2' b'Iris-setosa']\n",
            " [b'4.4' nan b'1.4' b'0.2' b'Iris-setosa']]\n"
          ],
          "name": "stdout"
        }
      ]
    },
    {
      "cell_type": "code",
      "metadata": {
        "colab": {
          "base_uri": "https://localhost:8080/"
        },
        "id": "uU8XUOWp7FOP",
        "outputId": "a4428ce0-2152-439e-ddcf-5c79b564e021"
      },
      "source": [
        "# Input\r\n",
        "url = 'https://archive.ics.uci.edu/ml/machine-learning-databases/iris/iris.data'\r\n",
        "iris_2d = np.genfromtxt(url, delimiter=',', dtype='float', usecols=[0,1,2,3])\r\n",
        "iris_2d[np.random.randint(150, size=20), np.random.randint(4, size=20)] = np.nan\r\n",
        "\r\n",
        "# Solution\r\n",
        "print(\"Number of missing values: \\n\", np.isnan(iris_2d[:, 0]).sum())\r\n",
        "print(\"Position of missing values: \\n\", np.where(np.isnan(iris_2d[:, 0])))"
      ],
      "execution_count": null,
      "outputs": [
        {
          "output_type": "stream",
          "text": [
            "Number of missing values: \n",
            " 5\n",
            "Position of missing values: \n",
            " (array([ 38,  80, 106, 113, 121]),)\n"
          ],
          "name": "stdout"
        }
      ]
    },
    {
      "cell_type": "code",
      "metadata": {
        "colab": {
          "base_uri": "https://localhost:8080/"
        },
        "id": "OD6K19Qd7q6e",
        "outputId": "2e2d74b0-caef-4682-b7e5-b9fa79aabcd7"
      },
      "source": [
        "# Input\r\n",
        "url = 'https://archive.ics.uci.edu/ml/machine-learning-databases/iris/iris.data'\r\n",
        "iris_2d = np.genfromtxt(url, delimiter=',', dtype='float', usecols=[0,1,2,3])\r\n",
        "\r\n",
        "# Solution\r\n",
        "condition = (iris_2d[:, 2] > 1.5) & (iris_2d[:, 0] < 5.0)\r\n",
        "iris_2d[condition]"
      ],
      "execution_count": null,
      "outputs": [
        {
          "output_type": "execute_result",
          "data": {
            "text/plain": [
              "array([[4.8, 3.4, 1.6, 0.2],\n",
              "       [4.8, 3.4, 1.9, 0.2],\n",
              "       [4.7, 3.2, 1.6, 0.2],\n",
              "       [4.8, 3.1, 1.6, 0.2],\n",
              "       [4.9, 2.4, 3.3, 1. ],\n",
              "       [4.9, 2.5, 4.5, 1.7]])"
            ]
          },
          "metadata": {
            "tags": []
          },
          "execution_count": 47
        }
      ]
    },
    {
      "cell_type": "code",
      "metadata": {
        "colab": {
          "base_uri": "https://localhost:8080/"
        },
        "id": "ivth8-bC78Oy",
        "outputId": "0423be14-622e-4a1a-8a8a-38987fc00bcc"
      },
      "source": [
        "# Input\r\n",
        "url = 'https://archive.ics.uci.edu/ml/machine-learning-databases/iris/iris.data'\r\n",
        "iris_2d = np.genfromtxt(url, delimiter=',', dtype='float', usecols=[0,1,2,3])\r\n",
        "iris_2d[np.random.randint(150, size=20), np.random.randint(4, size=20)] = np.nan\r\n",
        "\r\n",
        "# Solution\r\n",
        "# No direct numpy function for this.\r\n",
        "# Method 1:\r\n",
        "any_nan_in_row = np.array([~np.any(np.isnan(row)) for row in iris_2d])\r\n",
        "iris_2d[any_nan_in_row][:4]\r\n"
      ],
      "execution_count": null,
      "outputs": [
        {
          "output_type": "execute_result",
          "data": {
            "text/plain": [
              "array([[4.9, 3. , 1.4, 0.2],\n",
              "       [4.7, 3.2, 1.3, 0.2],\n",
              "       [4.6, 3.1, 1.5, 0.2],\n",
              "       [5. , 3.6, 1.4, 0.2]])"
            ]
          },
          "metadata": {
            "tags": []
          },
          "execution_count": 48
        }
      ]
    },
    {
      "cell_type": "code",
      "metadata": {
        "colab": {
          "base_uri": "https://localhost:8080/"
        },
        "id": "o1NW9wn68UfV",
        "outputId": "8e9804f2-67e8-4f3c-f087-d5f5b904fd16"
      },
      "source": [
        "# Input\r\n",
        "url = 'https://archive.ics.uci.edu/ml/machine-learning-databases/iris/iris.data'\r\n",
        "iris = np.genfromtxt(url, delimiter=',', dtype='float', usecols=[0,1,2,3])\r\n",
        "\r\n",
        "# Solution 1\r\n",
        "np.corrcoef(iris[:, 0], iris[:, 2])[0, 1]\r\n"
      ],
      "execution_count": null,
      "outputs": [
        {
          "output_type": "execute_result",
          "data": {
            "text/plain": [
              "0.8717541573048718"
            ]
          },
          "metadata": {
            "tags": []
          },
          "execution_count": 49
        }
      ]
    },
    {
      "cell_type": "code",
      "metadata": {
        "colab": {
          "base_uri": "https://localhost:8080/"
        },
        "id": "W2nZtCAb83aW",
        "outputId": "e0d9daa7-1d36-432b-f64c-ae5d3a879bcf"
      },
      "source": [
        "# Input\r\n",
        "url = 'https://archive.ics.uci.edu/ml/machine-learning-databases/iris/iris.data'\r\n",
        "iris_2d = np.genfromtxt(url, delimiter=',', dtype='float', usecols=[0,1,2,3])\r\n",
        "\r\n",
        "np.isnan(iris_2d).any()"
      ],
      "execution_count": null,
      "outputs": [
        {
          "output_type": "execute_result",
          "data": {
            "text/plain": [
              "False"
            ]
          },
          "metadata": {
            "tags": []
          },
          "execution_count": 50
        }
      ]
    },
    {
      "cell_type": "code",
      "metadata": {
        "colab": {
          "base_uri": "https://localhost:8080/"
        },
        "id": "fWdlKbmG9PvE",
        "outputId": "1bf52976-2aac-4a47-8282-b99c394c82d3"
      },
      "source": [
        "url = 'https://archive.ics.uci.edu/ml/machine-learning-databases/iris/iris.data'\r\n",
        "iris = np.genfromtxt(url, delimiter=',', dtype='object')\r\n",
        "\r\n",
        "species = iris[:, 4]\r\n",
        "species"
      ],
      "execution_count": null,
      "outputs": [
        {
          "output_type": "execute_result",
          "data": {
            "text/plain": [
              "array([b'Iris-setosa', b'Iris-setosa', b'Iris-setosa', ...,\n",
              "       b'Iris-virginica', b'Iris-virginica', b'Iris-virginica'],\n",
              "      dtype=object)"
            ]
          },
          "metadata": {
            "tags": []
          },
          "execution_count": 52
        }
      ]
    },
    {
      "cell_type": "code",
      "metadata": {
        "colab": {
          "base_uri": "https://localhost:8080/"
        },
        "id": "NWFtW2FE9cpb",
        "outputId": "5db3f434-8986-4d19-f0e4-78a82900c039"
      },
      "source": [
        "url = 'https://archive.ics.uci.edu/ml/machine-learning-databases/iris/iris.data'\r\n",
        "iris = np.genfromtxt(url, delimiter=',', dtype='object')\r\n",
        "np.argwhere(iris[:, 3].astype(float) > 1.0)[0]"
      ],
      "execution_count": null,
      "outputs": [
        {
          "output_type": "execute_result",
          "data": {
            "text/plain": [
              "array([50])"
            ]
          },
          "metadata": {
            "tags": []
          },
          "execution_count": 53
        }
      ]
    },
    {
      "cell_type": "code",
      "metadata": {
        "colab": {
          "base_uri": "https://localhost:8080/"
        },
        "id": "-iW8WCJY-VHR",
        "outputId": "3c7e3e61-f48e-4855-ef9a-fd517620412b"
      },
      "source": [
        "np.random.seed(100)\r\n",
        "a = np.random.uniform(1,50, 20)\r\n",
        "np.clip(a, a_min=10, a_max=30)"
      ],
      "execution_count": null,
      "outputs": [
        {
          "output_type": "execute_result",
          "data": {
            "text/plain": [
              "array([27.62684215, 14.64009987, 21.80136195, ..., 10.        ,\n",
              "       30.        , 14.42961361])"
            ]
          },
          "metadata": {
            "tags": []
          },
          "execution_count": 54
        }
      ]
    },
    {
      "cell_type": "code",
      "metadata": {
        "colab": {
          "base_uri": "https://localhost:8080/"
        },
        "id": "8ogdojnC_Pz1",
        "outputId": "b458773a-0754-44bb-b257-201b268a5e35"
      },
      "source": [
        "a = np.random.uniform(1,50, 20)\r\n",
        "print(a.argsort())"
      ],
      "execution_count": null,
      "outputs": [
        {
          "output_type": "stream",
          "text": [
            "[ 6  9 14 ... 18  1 16]\n"
          ],
          "name": "stdout"
        }
      ]
    },
    {
      "cell_type": "code",
      "metadata": {
        "colab": {
          "base_uri": "https://localhost:8080/"
        },
        "id": "aVfDDB16_jDK",
        "outputId": "961f0111-9a5f-4721-b039-719b65dd57af"
      },
      "source": [
        "rr = np.random.randint(1,11,size=(6, 10))\r\n",
        "rr"
      ],
      "execution_count": null,
      "outputs": [
        {
          "output_type": "execute_result",
          "data": {
            "text/plain": [
              "array([[ 2,  6,  5, ...,  1, 10,  4],\n",
              "       [ 7,  4,  5, ...,  1,  5,  5],\n",
              "       [ 6,  8,  7, ...,  8,  2,  7],\n",
              "       [ 7,  1,  8, ...,  3,  5,  4],\n",
              "       [ 8, 10,  1, ...,  7,  6,  7],\n",
              "       [ 5,  8,  4, ...,  8,  2,  6]])"
            ]
          },
          "metadata": {
            "tags": []
          },
          "execution_count": 57
        }
      ]
    },
    {
      "cell_type": "code",
      "metadata": {
        "colab": {
          "base_uri": "https://localhost:8080/"
        },
        "id": "yJSc2jzj_uiI",
        "outputId": "5dfc3fd1-4177-4f94-baf4-c0861f1c8ce3"
      },
      "source": [
        "rr1 = np.arange(3)\r\n",
        "rr2 = np.arange(3,7)\r\n",
        "rr3 = np.arange(7,10)\r\n",
        "\r\n",
        "array_of_arrays = np.array([rr1, rr2, rr3])\r\n",
        "array_of_arrays"
      ],
      "execution_count": null,
      "outputs": [
        {
          "output_type": "stream",
          "text": [
            "/usr/local/lib/python3.6/dist-packages/ipykernel_launcher.py:5: VisibleDeprecationWarning: Creating an ndarray from ragged nested sequences (which is a list-or-tuple of lists-or-tuples-or ndarrays with different lengths or shapes) is deprecated. If you meant to do this, you must specify 'dtype=object' when creating the ndarray\n",
            "  \"\"\"\n"
          ],
          "name": "stderr"
        },
        {
          "output_type": "execute_result",
          "data": {
            "text/plain": [
              "array([array([0, 1, 2]), array([3, 4, 5, 6]), array([7, 8, 9])],\n",
              "      dtype=object)"
            ]
          },
          "metadata": {
            "tags": []
          },
          "execution_count": 58
        }
      ]
    },
    {
      "cell_type": "code",
      "metadata": {
        "colab": {
          "base_uri": "https://localhost:8080/"
        },
        "id": "71QxIqtr_5UB",
        "outputId": "bbc8c042-0d52-4126-addd-0cfc9519e116"
      },
      "source": [
        "np.random.seed(101) \r\n",
        "rr = np.random.randint(1,4, size=6)\r\n",
        "rr"
      ],
      "execution_count": null,
      "outputs": [
        {
          "output_type": "execute_result",
          "data": {
            "text/plain": [
              "array([2, 3, 2, 2, 2, 1])"
            ]
          },
          "metadata": {
            "tags": []
          },
          "execution_count": 59
        }
      ]
    },
    {
      "cell_type": "code",
      "metadata": {
        "colab": {
          "base_uri": "https://localhost:8080/"
        },
        "id": "XkohXMJzAwfw",
        "outputId": "ffc3a7dd-b0c1-422b-9355-ea5a24495813"
      },
      "source": [
        "url = 'https://archive.ics.uci.edu/ml/machine-learning-databases/iris/iris.data'\r\n",
        "species = np.genfromtxt(url, delimiter=',', dtype='str', usecols=4)\r\n",
        "species_small = np.sort(np.random.choice(species, size=20))\r\n",
        "species_small"
      ],
      "execution_count": null,
      "outputs": [
        {
          "output_type": "execute_result",
          "data": {
            "text/plain": [
              "array(['Iris-setosa', 'Iris-setosa', 'Iris-setosa', ..., 'Iris-virginica',\n",
              "       'Iris-virginica', 'Iris-virginica'], dtype='<U15')"
            ]
          },
          "metadata": {
            "tags": []
          },
          "execution_count": 60
        }
      ]
    },
    {
      "cell_type": "code",
      "metadata": {
        "colab": {
          "base_uri": "https://localhost:8080/"
        },
        "id": "2LF0rMkjA0gJ",
        "outputId": "bcb054cd-4440-439f-bad4-30e25f379e75"
      },
      "source": [
        "url = 'https://archive.ics.uci.edu/ml/machine-learning-databases/iris/iris.data'\r\n",
        "species = np.genfromtxt(url, delimiter=',', dtype='str', usecols=4)\r\n",
        "species_small = np.sort(np.random.choice(species, size=20))\r\n",
        "species_small"
      ],
      "execution_count": null,
      "outputs": [
        {
          "output_type": "execute_result",
          "data": {
            "text/plain": [
              "array(['Iris-setosa', 'Iris-setosa', 'Iris-setosa', ..., 'Iris-virginica',\n",
              "       'Iris-virginica', 'Iris-virginica'], dtype='<U15')"
            ]
          },
          "metadata": {
            "tags": []
          },
          "execution_count": 61
        }
      ]
    },
    {
      "cell_type": "code",
      "metadata": {
        "colab": {
          "base_uri": "https://localhost:8080/"
        },
        "id": "-J4mfhboCB4d",
        "outputId": "a58ac86e-cba8-4f16-d627-715a8b29b971"
      },
      "source": [
        "np.random.seed(10)\r\n",
        "a = np.random.randint(20, size=[2,5])\r\n",
        "print(a)"
      ],
      "execution_count": null,
      "outputs": [
        {
          "output_type": "stream",
          "text": [
            "[[ 9  4 15  0 17]\n",
            " [16 17  8  9  0]]\n"
          ],
          "name": "stdout"
        }
      ]
    },
    {
      "cell_type": "code",
      "metadata": {
        "colab": {
          "base_uri": "https://localhost:8080/"
        },
        "id": "7XYb6MB_CKQA",
        "outputId": "2cd0c88e-136d-4ae4-baff-4351c0bab304"
      },
      "source": [
        "np.random.seed(100)\r\n",
        "a = np.random.randint(1,10, [5,3])\r\n",
        "a"
      ],
      "execution_count": null,
      "outputs": [
        {
          "output_type": "execute_result",
          "data": {
            "text/plain": [
              "array([[9, 9, 4],\n",
              "       [8, 8, 1],\n",
              "       [5, 3, 6],\n",
              "       [3, 3, 3],\n",
              "       [2, 1, 9]])"
            ]
          },
          "metadata": {
            "tags": []
          },
          "execution_count": 63
        }
      ]
    },
    {
      "cell_type": "code",
      "metadata": {
        "colab": {
          "base_uri": "https://localhost:8080/"
        },
        "id": "jJ9DH3YkC3Dc",
        "outputId": "bd5bb06a-333d-4550-873d-4a45e7ed2df5"
      },
      "source": [
        "def moving_average(a, n=3) :\r\n",
        "    ret = np.cumsum(a, dtype=float)\r\n",
        "    ret[n:] = ret[n:] - ret[:-n]\r\n",
        "    return ret[n - 1:] / n\r\n",
        "\r\n",
        "np.random.seed(100)\r\n",
        "Z = np.random.randint(10, size=10)\r\n",
        "print('array: ', Z)\r\n",
        "# Method 1\r\n",
        "moving_average(Z, n=3).round(2)"
      ],
      "execution_count": null,
      "outputs": [
        {
          "output_type": "stream",
          "text": [
            "array:  [8 8 3 ... 2 5 2]\n"
          ],
          "name": "stdout"
        },
        {
          "output_type": "execute_result",
          "data": {
            "text/plain": [
              "array([6.33, 6.  , 5.67, ..., 2.  , 3.67, 3.  ])"
            ]
          },
          "metadata": {
            "tags": []
          },
          "execution_count": 64
        }
      ]
    },
    {
      "cell_type": "code",
      "metadata": {
        "id": "s0EWbzn1ERK7",
        "colab": {
          "base_uri": "https://localhost:8080/"
        },
        "outputId": "cd4b211b-f872-4f8a-ed9e-fbb8bc49ae1d"
      },
      "source": [
        "dates = np.arange(np.datetime64('2018-02-01'), np.datetime64('2018-02-25'), 2)\r\n",
        "print(dates)"
      ],
      "execution_count": null,
      "outputs": [
        {
          "output_type": "stream",
          "text": [
            "['2018-02-01' '2018-02-03' '2018-02-05' ... '2018-02-19' '2018-02-21'\n",
            " '2018-02-23']\n"
          ],
          "name": "stdout"
        }
      ]
    }
  ]
}